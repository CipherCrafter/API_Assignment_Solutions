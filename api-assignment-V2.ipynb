{
 "cells": [
  {
   "cell_type": "code",
   "execution_count": 1,
   "metadata": {
    "execution": {
     "iopub.execute_input": "2025-03-24T00:57:09.797453Z",
     "iopub.status.busy": "2025-03-24T00:57:09.796824Z",
     "iopub.status.idle": "2025-03-24T00:57:09.959389Z",
     "shell.execute_reply": "2025-03-24T00:57:09.957866Z",
     "shell.execute_reply.started": "2025-03-24T00:57:09.797401Z"
    },
    "trusted": true
   },
   "outputs": [],
   "source": [
    "import requests\n",
    "import time\n",
    "from collections import deque\n",
    "import string"
   ]
  },
  {
   "cell_type": "code",
   "execution_count": null,
   "metadata": {
    "execution": {
     "iopub.execute_input": "2025-03-24T00:57:12.356356Z",
     "iopub.status.busy": "2025-03-24T00:57:12.355778Z",
     "iopub.status.idle": "2025-03-24T00:57:12.364272Z",
     "shell.execute_reply": "2025-03-24T00:57:12.363024Z",
     "shell.execute_reply.started": "2025-03-24T00:57:12.356215Z"
    },
    "trusted": true
   },
   "outputs": [],
   "source": [
    "API_URL = \"http://35.200.185.69:8000/v2/autocomplete\"\n",
    "\n",
    "REQUESTS_PER_MINUTE = 100\n",
    "DELAY = 60 / REQUESTS_PER_MINUTE\n",
    "MAX_RETRIES = 3\n",
    "RETRY_DELAY = 30\n",
    "\n",
    "# Initialize search queue with numbers (0-9) and lowercase alphabets (a-z)\n",
    "search_queue = deque()\n",
    "found_names = set()\n",
    "visited_queries = set()\n",
    "\n",
    "characters = string.digits + string.ascii_lowercase  # '0123456789abcdefghijklmnopqrstuvwxyz'\n",
    "\n",
    "for c in characters:\n",
    "    search_queue.append(c)"
   ]
  },
  {
   "cell_type": "code",
   "execution_count": null,
   "metadata": {
    "execution": {
     "iopub.execute_input": "2025-03-24T00:57:12.728697Z",
     "iopub.status.busy": "2025-03-24T00:57:12.728275Z",
     "iopub.status.idle": "2025-03-24T00:57:12.736233Z",
     "shell.execute_reply": "2025-03-24T00:57:12.734835Z",
     "shell.execute_reply.started": "2025-03-24T00:57:12.728662Z"
    },
    "trusted": true
   },
   "outputs": [],
   "source": [
    "def fetch_names(prefix):\n",
    "    for attempt in range(MAX_RETRIES):\n",
    "        try:\n",
    "            response = requests.get(API_URL, params={'query': prefix}, timeout=10)\n",
    "            \n",
    "            if response.status_code == 200:\n",
    "                return response.json().get('results', [])\n",
    "            elif response.status_code == 429:\n",
    "                retry_after = int(response.headers.get('Retry-After', RETRY_DELAY))\n",
    "                print(f\"Rate limited. Retrying after {retry_after} seconds...\")\n",
    "                time.sleep(retry_after)\n",
    "            else:\n",
    "                print(f\"Error {response.status_code} for '{prefix}': {response.text}\")\n",
    "                return []\n",
    "        except requests.exceptions.RequestException as e:\n",
    "            print(f\"Request failed for '{prefix}': {e}\")\n",
    "            time.sleep(RETRY_DELAY)\n",
    "    \n",
    "    print(f\"Max retries exceeded for prefix '{prefix}'\")\n",
    "    return []"
   ]
  },
  {
   "cell_type": "code",
   "execution_count": null,
   "metadata": {
    "execution": {
     "iopub.execute_input": "2025-03-24T00:57:14.385492Z",
     "iopub.status.busy": "2025-03-24T00:57:14.385064Z",
     "iopub.status.idle": "2025-03-24T00:57:14.393586Z",
     "shell.execute_reply": "2025-03-24T00:57:14.392357Z",
     "shell.execute_reply.started": "2025-03-24T00:57:14.385461Z"
    },
    "trusted": true
   },
   "outputs": [],
   "source": [
    "def extract_all_names():\n",
    "    global found_names\n",
    "    total_requests = 0\n",
    "    start_time = time.time()\n",
    "\n",
    "    while search_queue:\n",
    "        query = search_queue.popleft()\n",
    "        if query in visited_queries:\n",
    "            continue\n",
    "        visited_queries.add(query)\n",
    "        \n",
    "        names = fetch_names(query)\n",
    "        total_requests += 1\n",
    "\n",
    "        for name in names:\n",
    "            if name not in found_names:\n",
    "                found_names.add(name)\n",
    "\n",
    "        if len(names) == 12:  # Update for v2: Checking for 12 words instead of 10\n",
    "            twelfth_word = names[11]\n",
    "            if len(twelfth_word) > len(query):\n",
    "                next_char = twelfth_word[len(query)]\n",
    "\n",
    "                for letter in characters[characters.index(next_char):]:  # Continue from the last found character\n",
    "                    new_query = query + letter\n",
    "                    if new_query not in visited_queries:\n",
    "                        search_queue.append(new_query)\n",
    "                        \n",
    "        print(f\"Queried: '{query}' → Found {len(names)} names, Total: {len(found_names)}\")\n",
    "        \n",
    "        # Proper rate limit handling\n",
    "        if total_requests % REQUESTS_PER_MINUTE == 0:\n",
    "            elapsed_time = time.time() - start_time\n",
    "            if elapsed_time < 60:\n",
    "                sleep_time = 60 - elapsed_time\n",
    "                print(f\"Rate limit reached. Sleeping for {sleep_time:.2f} seconds...\")\n",
    "                time.sleep(sleep_time)\n",
    "            # Reset start time only after sleeping\n",
    "            start_time = time.time() \n",
    "\n",
    "    return found_names, total_requests"
   ]
  },
  {
   "cell_type": "code",
   "execution_count": null,
   "metadata": {
    "execution": {
     "execution_failed": "2025-03-24T01:07:09.882Z",
     "iopub.execute_input": "2025-03-24T00:57:15.765473Z",
     "iopub.status.busy": "2025-03-24T00:57:15.764999Z"
    },
    "trusted": true
   },
   "outputs": [],
   "source": [
    "if __name__ == \"__main__\":\n",
    "    all_names, request_count = extract_all_names()\n",
    "    \n",
    "    # Save results\n",
    "    with open(\"extracted_names_v2.txt\", \"w\") as f:\n",
    "        for name in sorted(all_names):\n",
    "            f.write(name + \"\\\\n\")\n",
    "    \n",
    "    print(f\"\\\\nTotal unique names found: {len(all_names)}\")\n",
    "    print(f\"Total API requests made: {request_count}\")"
   ]
  },
  {
   "cell_type": "code",
   "execution_count": null,
   "metadata": {
    "execution": {
     "execution_failed": "2025-03-23T23:40:39.769Z",
     "iopub.execute_input": "2025-03-23T23:40:01.036908Z",
     "iopub.status.busy": "2025-03-23T23:40:01.036514Z"
    },
    "trusted": true
   },
   "outputs": [],
   "source": []
  },
  {
   "cell_type": "code",
   "execution_count": null,
   "metadata": {
    "trusted": true
   },
   "outputs": [],
   "source": []
  }
 ],
 "metadata": {
  "kaggle": {
   "accelerator": "none",
   "dataSources": [],
   "dockerImageVersionId": 30918,
   "isGpuEnabled": false,
   "isInternetEnabled": true,
   "language": "python",
   "sourceType": "notebook"
  },
  "kernelspec": {
   "display_name": "Python 3",
   "language": "python",
   "name": "python3"
  },
  "language_info": {
   "codemirror_mode": {
    "name": "ipython",
    "version": 3
   },
   "file_extension": ".py",
   "mimetype": "text/x-python",
   "name": "python",
   "nbconvert_exporter": "python",
   "pygments_lexer": "ipython3",
   "version": "3.10.2"
  }
 },
 "nbformat": 4,
 "nbformat_minor": 4
}
