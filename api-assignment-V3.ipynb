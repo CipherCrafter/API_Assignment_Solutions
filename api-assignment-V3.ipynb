{
 "cells": [
  {
   "cell_type": "code",
   "execution_count": 1,
   "metadata": {
    "execution": {
     "iopub.execute_input": "2025-03-24T01:45:19.344647Z",
     "iopub.status.busy": "2025-03-24T01:45:19.344020Z",
     "iopub.status.idle": "2025-03-24T01:45:19.349502Z",
     "shell.execute_reply": "2025-03-24T01:45:19.348299Z",
     "shell.execute_reply.started": "2025-03-24T01:45:19.344608Z"
    },
    "trusted": true
   },
   "outputs": [],
   "source": [
    "import requests\n",
    "import time\n",
    "from collections import deque\n",
    "import string"
   ]
  },
  {
   "cell_type": "code",
   "execution_count": 4,
   "metadata": {
    "execution": {
     "iopub.execute_input": "2025-03-24T01:45:29.797021Z",
     "iopub.status.busy": "2025-03-24T01:45:29.796678Z",
     "iopub.status.idle": "2025-03-24T01:45:29.803049Z",
     "shell.execute_reply": "2025-03-24T01:45:29.801621Z",
     "shell.execute_reply.started": "2025-03-24T01:45:29.796993Z"
    },
    "trusted": true
   },
   "outputs": [],
   "source": [
    "API_URL = \"http://35.200.185.69:8000/v3/autocomplete\"\n",
    "\n",
    "REQUESTS_PER_MINUTE = 100\n",
    "DELAY = 60 / REQUESTS_PER_MINUTE\n",
    "MAX_RETRIES = 3\n",
    "RETRY_DELAY = 30\n",
    "\n",
    "# Extended character set: ASCII ordering (space first, then symbols, numbers, uppercase, lowercase)\n",
    "CHARSET = \" \" + string.punctuation + string.digits + string.ascii_letters  # Space first, ASCII ordering\n",
    "WORD_LIMIT = 15  # Updated word limit\n",
    "\n",
    "search_queue = deque()\n",
    "found_names = set()\n",
    "visited_queries = set()\n",
    "\n",
    "# Start with each character in the expanded CHARSET\n",
    "for c in CHARSET:\n",
    "    search_queue.append(c)"
   ]
  },
  {
   "cell_type": "code",
   "execution_count": 5,
   "metadata": {
    "execution": {
     "iopub.execute_input": "2025-03-24T01:45:39.428607Z",
     "iopub.status.busy": "2025-03-24T01:45:39.428204Z",
     "iopub.status.idle": "2025-03-24T01:45:39.436505Z",
     "shell.execute_reply": "2025-03-24T01:45:39.434950Z",
     "shell.execute_reply.started": "2025-03-24T01:45:39.428575Z"
    },
    "trusted": true
   },
   "outputs": [],
   "source": [
    "def fetch_names(prefix):\n",
    "    \"\"\"Fetch names from API with retries.\"\"\"\n",
    "    for attempt in range(MAX_RETRIES):\n",
    "        try:\n",
    "            response = requests.get(API_URL, params={'query': prefix}, timeout=10)\n",
    "            \n",
    "            if response.status_code == 200:\n",
    "                return response.json().get('results', [])\n",
    "            elif response.status_code == 429:\n",
    "                retry_after = int(response.headers.get('Retry-After', RETRY_DELAY))\n",
    "                print(f\"Rate limited. Retrying after {retry_after} seconds...\")\n",
    "                time.sleep(retry_after)\n",
    "            else:\n",
    "                print(f\"Error {response.status_code} for '{prefix}': {response.text}\")\n",
    "                return []\n",
    "        except requests.exceptions.RequestException as e:\n",
    "            print(f\"Request failed for '{prefix}': {e}\")\n",
    "            time.sleep(RETRY_DELAY)\n",
    "    \n",
    "    print(f\"Max retries exceeded for prefix '{prefix}'\")\n",
    "    return []"
   ]
  },
  {
   "cell_type": "code",
   "execution_count": 6,
   "metadata": {
    "execution": {
     "iopub.execute_input": "2025-03-24T01:45:47.860226Z",
     "iopub.status.busy": "2025-03-24T01:45:47.859774Z",
     "iopub.status.idle": "2025-03-24T01:45:47.868745Z",
     "shell.execute_reply": "2025-03-24T01:45:47.867374Z",
     "shell.execute_reply.started": "2025-03-24T01:45:47.860193Z"
    },
    "trusted": true
   },
   "outputs": [],
   "source": [
    "def extract_all_names():\n",
    "    \"\"\"Extract all possible names considering V3 constraints.\"\"\"\n",
    "    global found_names\n",
    "    total_requests = 0\n",
    "    start_time = time.time()\n",
    "\n",
    "    while search_queue:\n",
    "        query = search_queue.popleft()\n",
    "        if query in visited_queries:\n",
    "            continue\n",
    "        visited_queries.add(query)\n",
    "        \n",
    "        names = fetch_names(query)\n",
    "        total_requests += 1\n",
    "\n",
    "        for name in names:\n",
    "            if name not in found_names:\n",
    "                found_names.add(name)\n",
    "\n",
    "        if len(names) == WORD_LIMIT:\n",
    "            limit_word = names[WORD_LIMIT - 1]  # 15th word\n",
    "            if len(limit_word) > len(query):\n",
    "                next_char = limit_word[len(query)]\n",
    "\n",
    "                # Add new queries using ASCII order from CHARSET\n",
    "                for char in CHARSET[CHARSET.index(next_char):]:\n",
    "                    new_query = query + char\n",
    "                    if new_query not in visited_queries:\n",
    "                        search_queue.append(new_query)\n",
    "        \n",
    "        print(f\"Queried: '{query}' → Found {len(names)} names, Total: {len(found_names)}\")\n",
    "        \n",
    "        # Respect API rate limit\n",
    "        if total_requests % REQUESTS_PER_MINUTE == 0:\n",
    "            elapsed_time = time.time() - start_time\n",
    "            sleep_time = max(0, 60 - elapsed_time)\n",
    "            print(f\"Rate limit reached. Sleeping for {sleep_time:.2f} seconds...\")\n",
    "            time.sleep(sleep_time)\n",
    "            start_time = time.time() \n",
    "\n",
    "    return found_names, total_requests"
   ]
  },
  {
   "cell_type": "code",
   "execution_count": null,
   "metadata": {
    "execution": {
     "execution_failed": "2025-03-24T01:45:53.379Z",
     "iopub.execute_input": "2025-03-24T01:45:51.051126Z",
     "iopub.status.busy": "2025-03-24T01:45:51.050746Z"
    },
    "trusted": true
   },
   "outputs": [
    {
     "name": "stdout",
     "output_type": "stream",
     "text": [
      "Queried: ' ' → Found 15 names, Total: 15\n",
      "Queried: '!' → Found 0 names, Total: 15\n",
      "Queried: '\"' → Found 0 names, Total: 15\n",
      "Queried: '#' → Found 0 names, Total: 15\n"
     ]
    }
   ],
   "source": [
    "if __name__ == \"__main__\":\n",
    "    all_names, request_count = extract_all_names()\n",
    "    \n",
    "    # Save results\n",
    "    with open(\"extracted_names_v3.txt\", \"w\") as f:\n",
    "        for name in sorted(all_names):\n",
    "            f.write(name + \"\\n\")\n",
    "    \n",
    "    print(f\"\\nTotal unique names found: {len(all_names)}\")\n",
    "    print(f\"Total API requests made: {request_count}\")"
   ]
  },
  {
   "cell_type": "code",
   "execution_count": null,
   "metadata": {
    "trusted": true
   },
   "outputs": [],
   "source": []
  }
 ],
 "metadata": {
  "kaggle": {
   "accelerator": "none",
   "dataSources": [],
   "dockerImageVersionId": 30918,
   "isGpuEnabled": false,
   "isInternetEnabled": true,
   "language": "python",
   "sourceType": "notebook"
  },
  "kernelspec": {
   "display_name": "Python 3",
   "language": "python",
   "name": "python3"
  },
  "language_info": {
   "codemirror_mode": {
    "name": "ipython",
    "version": 3
   },
   "file_extension": ".py",
   "mimetype": "text/x-python",
   "name": "python",
   "nbconvert_exporter": "python",
   "pygments_lexer": "ipython3",
   "version": "3.10.2"
  }
 },
 "nbformat": 4,
 "nbformat_minor": 4
}
