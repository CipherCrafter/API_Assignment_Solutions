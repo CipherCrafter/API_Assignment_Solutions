{
 "cells": [
  {
   "cell_type": "code",
   "execution_count": 1,
   "metadata": {
    "execution": {
     "iopub.execute_input": "2025-03-24T01:17:55.455005Z",
     "iopub.status.busy": "2025-03-24T01:17:55.454686Z",
     "iopub.status.idle": "2025-03-24T01:17:55.561275Z",
     "shell.execute_reply": "2025-03-24T01:17:55.559998Z",
     "shell.execute_reply.started": "2025-03-24T01:17:55.454980Z"
    },
    "trusted": true
   },
   "outputs": [],
   "source": [
    "import requests\n",
    "import time\n",
    "from collections import deque\n",
    "import string"
   ]
  },
  {
   "cell_type": "code",
   "execution_count": null,
   "metadata": {
    "execution": {
     "iopub.execute_input": "2025-03-23T21:01:59.840756Z",
     "iopub.status.busy": "2025-03-23T21:01:59.840366Z",
     "iopub.status.idle": "2025-03-23T21:01:59.845780Z",
     "shell.execute_reply": "2025-03-23T21:01:59.844551Z",
     "shell.execute_reply.started": "2025-03-23T21:01:59.840727Z"
    },
    "trusted": true
   },
   "outputs": [],
   "source": [
    "API_URL = \"http://35.200.185.69:8000/v1/autocomplete\"\n",
    "\n",
    "REQUESTS_PER_MINUTE = 100\n",
    "DELAY = 60 / REQUESTS_PER_MINUTE\n",
    "MAX_RETRIES = 3\n",
    "RETRY_DELAY = 30\n",
    "\n",
    "search_queue = deque()\n",
    "found_names = set()\n",
    "visited_queries = set()\n",
    "\n",
    "for c in 'abcdefghijklmnopqrstuvwxyz':\n",
    "    search_queue.append(c)"
   ]
  },
  {
   "cell_type": "code",
   "execution_count": null,
   "metadata": {
    "execution": {
     "iopub.execute_input": "2025-03-23T21:02:12.061945Z",
     "iopub.status.busy": "2025-03-23T21:02:12.061563Z",
     "iopub.status.idle": "2025-03-23T21:02:12.068887Z",
     "shell.execute_reply": "2025-03-23T21:02:12.067637Z",
     "shell.execute_reply.started": "2025-03-23T21:02:12.061911Z"
    },
    "trusted": true
   },
   "outputs": [],
   "source": [
    "def fetch_names(prefix):\n",
    "    for attempt in range(MAX_RETRIES):\n",
    "        try:\n",
    "            response = requests.get(API_URL, params={'query': prefix}, timeout=10)\n",
    "            \n",
    "            if response.status_code == 200:\n",
    "                return response.json().get('results', [])\n",
    "            elif response.status_code == 429:\n",
    "                retry_after = int(response.headers.get('Retry-After', RETRY_DELAY))\n",
    "                print(f\"Rate limited. Retrying after {retry_after} seconds...\")\n",
    "                time.sleep(retry_after)\n",
    "            else:\n",
    "                print(f\"Error {response.status_code} for '{prefix}': {response.text}\")\n",
    "                return []\n",
    "        except requests.exceptions.RequestException as e:\n",
    "            print(f\"Request failed for '{prefix}': {e}\")\n",
    "            time.sleep(RETRY_DELAY)\n",
    "    \n",
    "    print(f\"Max retries exceeded for prefix '{prefix}'\")\n",
    "    return []"
   ]
  },
  {
   "cell_type": "code",
   "execution_count": null,
   "metadata": {
    "execution": {
     "iopub.execute_input": "2025-03-23T21:02:22.605855Z",
     "iopub.status.busy": "2025-03-23T21:02:22.605497Z",
     "iopub.status.idle": "2025-03-23T21:02:22.614483Z",
     "shell.execute_reply": "2025-03-23T21:02:22.613397Z",
     "shell.execute_reply.started": "2025-03-23T21:02:22.605826Z"
    },
    "trusted": true
   },
   "outputs": [],
   "source": [
    "def extract_all_names():\n",
    "    global found_names\n",
    "    total_requests = 0\n",
    "    start_time = time.time()\n",
    "\n",
    "    while search_queue:\n",
    "        query = search_queue.popleft()\n",
    "        if query in visited_queries:\n",
    "            continue\n",
    "        visited_queries.add(query)\n",
    "        \n",
    "        names = fetch_names(query)\n",
    "        total_requests += 1\n",
    "\n",
    "        for name in names:\n",
    "            if name not in found_names:\n",
    "                found_names.add(name)\n",
    "\n",
    "        if len(names) == 10:\n",
    "            tenth_word = names[9]\n",
    "            if len(tenth_word) > len(query):\n",
    "                next_char = tenth_word[len(query)]\n",
    "\n",
    "                for letter in string.ascii_lowercase[string.ascii_lowercase.index(next_char):]:\n",
    "                    new_query = query + letter\n",
    "                    if new_query not in visited_queries:\n",
    "                        search_queue.append(new_query)\n",
    "                \n",
    "        print(f\"Queried: '{query}' → Found {len(names)} names, Total: {len(found_names)}\")\n",
    "        \n",
    "        # Respect API rate limit\n",
    "        if total_requests % REQUESTS_PER_MINUTE == 0:\n",
    "            elapsed_time = time.time() - start_time\n",
    "            sleep_time = max(0, 60 - elapsed_time)\n",
    "            print(f\"Rate limit reached. Sleeping for {sleep_time:.2f} seconds...\")\n",
    "            time.sleep(sleep_time)\n",
    "            start_time = time.time() \n",
    "\n",
    "    return found_names, total_requests"
   ]
  },
  {
   "cell_type": "code",
   "execution_count": null,
   "metadata": {
    "trusted": true
   },
   "outputs": [],
   "source": [
    "if __name__ == \"__main__\":\n",
    "    all_names, request_count = extract_all_names()\n",
    "    \n",
    "    # Save results\n",
    "    with open(\"extracted_names.txt\", \"w\") as f:\n",
    "        for name in sorted(all_names):\n",
    "            f.write(name + \"\\n\")\n",
    "    \n",
    "    print(f\"\\nTotal unique names found: {len(all_names)}\")\n",
    "    print(f\"Total API requests made: {request_count}\")"
   ]
  }
 ],
 "metadata": {
  "kaggle": {
   "accelerator": "none",
   "dataSources": [],
   "dockerImageVersionId": 30918,
   "isGpuEnabled": false,
   "isInternetEnabled": true,
   "language": "python",
   "sourceType": "notebook"
  },
  "kernelspec": {
   "display_name": "Python 3",
   "language": "python",
   "name": "python3"
  },
  "language_info": {
   "codemirror_mode": {
    "name": "ipython",
    "version": 3
   },
   "file_extension": ".py",
   "mimetype": "text/x-python",
   "name": "python",
   "nbconvert_exporter": "python",
   "pygments_lexer": "ipython3",
   "version": "3.10.2"
  }
 },
 "nbformat": 4,
 "nbformat_minor": 4
}
